{
 "cells": [
  {
   "cell_type": "code",
   "execution_count": 4,
   "id": "7e33b459-1f07-40e4-acd2-4feb84905503",
   "metadata": {
    "tags": []
   },
   "outputs": [],
   "source": [
    "def remove_duplicates(arr):\n",
    "   new_list = []\n",
    "   for num in arr:\n",
    "       if num not in new_list:\n",
    "           new_list.append(num)\n",
    "   return new_list"
   ]
  },
  {
   "cell_type": "code",
   "execution_count": 5,
   "id": "4345b0a9-5c76-4cbc-80bf-1502c7b01aa6",
   "metadata": {
    "tags": []
   },
   "outputs": [
    {
     "name": "stdout",
     "output_type": "stream",
     "text": [
      "[6, 8, 5, 4, 9, 1, 12]\n"
     ]
    }
   ],
   "source": [
    "arr = [6, 8, 5, 4, 6, 8, 9, 1, 4, 9, 12]\n",
    "print(remove_duplicates(arr))"
   ]
  }
 ],
 "metadata": {
  "kernelspec": {
   "display_name": "Python 3 (ipykernel)",
   "language": "python",
   "name": "python3"
  },
  "language_info": {
   "codemirror_mode": {
    "name": "ipython",
    "version": 3
   },
   "file_extension": ".py",
   "mimetype": "text/x-python",
   "name": "python",
   "nbconvert_exporter": "python",
   "pygments_lexer": "ipython3",
   "version": "3.11.3"
  }
 },
 "nbformat": 4,
 "nbformat_minor": 5
}
