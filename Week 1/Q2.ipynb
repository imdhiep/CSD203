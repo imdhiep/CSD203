{
 "cells": [
  {
   "cell_type": "code",
   "execution_count": 6,
   "id": "fda2a219-fe52-44c3-9213-93d839fa5243",
   "metadata": {
    "tags": []
   },
   "outputs": [],
   "source": [
    "class GradeConverter:\n",
    "   def __init__(self):\n",
    "       self.grade_map = {9: 'A', 8: 'B+', 7: 'B', 6: 'C+', 5: 'C', 4: 'D', 0: 'F'}\n",
    "       self.grade_map_4th = {9: 4, 8: 3.5, 7: 3, 6: 2.5, 5: 2, 4: 1.5, 0: 1}\n",
    "\n",
    "   def validate_input(self, grade):\n",
    "       if 0 <= grade <= 10:\n",
    "           return True\n",
    "       else:\n",
    "           print(\"Điểm không hợp lệ! Vui lòng nhập điểm số từ 0 đến 10.\")\n",
    "           return False\n",
    "\n",
    "   def convert_to_alphabets(self, grade):\n",
    "       return self.grade_map.get(grade // 1, 'F')\n",
    "\n",
    "   def convert_to_4th_system(self, grade):\n",
    "       return self.grade_map_4th.get(grade // 1, 1)\n",
    "\n",
    "   def run(self):\n",
    "       while True:\n",
    "           try:\n",
    "               grade = float(input(\"Nhập điểm số của môn học: \"))\n",
    "               if self.validate_input(grade):\n",
    "                  print(\"Điểm tương ứng trong hệ thống chữ cái là: \", self.convert_to_alphabets(int(grade)))\n",
    "                  print(\"Điểm tương ứng trong hệ thống 4 là: \", self.convert_to_4th_system(int(grade)))\n",
    "                  break\n",
    "           except ValueError:\n",
    "               print(\"Không hợp lệ! Vui lòng nhập một số.\")"
   ]
  },
  {
   "cell_type": "code",
   "execution_count": 7,
   "id": "97c35eb4-1056-4c6a-8d01-5927fa08c549",
   "metadata": {
    "tags": []
   },
   "outputs": [
    {
     "name": "stdin",
     "output_type": "stream",
     "text": [
      "Nhập điểm số của môn học:  1.5\n"
     ]
    },
    {
     "name": "stdout",
     "output_type": "stream",
     "text": [
      "Điểm tương ứng trong hệ thống chữ cái là:  F\n",
      "Điểm tương ứng trong hệ thống 4 là:  1\n"
     ]
    }
   ],
   "source": [
    "converter = GradeConverter()\n",
    "converter.run()"
   ]
  },
  {
   "cell_type": "code",
   "execution_count": null,
   "id": "c75f7070-127e-44ef-9340-53c9e50657f8",
   "metadata": {},
   "outputs": [],
   "source": []
  }
 ],
 "metadata": {
  "kernelspec": {
   "display_name": "Python 3 (ipykernel)",
   "language": "python",
   "name": "python3"
  },
  "language_info": {
   "codemirror_mode": {
    "name": "ipython",
    "version": 3
   },
   "file_extension": ".py",
   "mimetype": "text/x-python",
   "name": "python",
   "nbconvert_exporter": "python",
   "pygments_lexer": "ipython3",
   "version": "3.11.3"
  }
 },
 "nbformat": 4,
 "nbformat_minor": 5
}
