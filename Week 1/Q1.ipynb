{
 "cells": [
  {
   "cell_type": "code",
   "execution_count": 1,
   "id": "76413b91-7943-4e66-9429-da7ab3fa60ed",
   "metadata": {
    "tags": []
   },
   "outputs": [],
   "source": [
    "import numpy as np"
   ]
  },
  {
   "cell_type": "code",
   "execution_count": 2,
   "id": "01babe12-5241-49d8-933d-9ce0c3b4101f",
   "metadata": {
    "tags": []
   },
   "outputs": [],
   "source": [
    "class Nearest:\n",
    "  def __init__(self, data):\n",
    "      self.data = data\n",
    "\n",
    "  def distance(self, point1, point2):\n",
    "      return abs(point1 - point2)\n",
    "\n",
    "  def min_nearest(self):\n",
    "      self.mean_ = np.mean(self.data) # Calculate the mean of the data\n",
    "      distances = [self.distance(x, self.mean_) for x in self.data] # Compute the distance of each element from the mean\n",
    "      idx = np.array(distances).argmin() # Find the index of the smallest distance\n",
    "      return idx"
   ]
  },
  {
   "cell_type": "code",
   "execution_count": 5,
   "id": "ad41e848-2b76-485e-aef5-82295be25c1e",
   "metadata": {
    "tags": []
   },
   "outputs": [
    {
     "name": "stdout",
     "output_type": "stream",
     "text": [
      "3\n"
     ]
    }
   ],
   "source": [
    "data = [10, 220, 1000, 340, 50, 650, 170, 859]\n",
    "data = np.array(data)\n",
    "near = Nearest(data)\n",
    "idx = near.min_nearest()\n",
    "print(idx) # Print the index of the element closest to the mean"
   ]
  },
  {
   "cell_type": "code",
   "execution_count": null,
   "id": "c4f91b1a-b921-40a0-b530-0ca2bff970ce",
   "metadata": {},
   "outputs": [],
   "source": []
  }
 ],
 "metadata": {
  "kernelspec": {
   "display_name": "Python 3 (ipykernel)",
   "language": "python",
   "name": "python3"
  },
  "language_info": {
   "codemirror_mode": {
    "name": "ipython",
    "version": 3
   },
   "file_extension": ".py",
   "mimetype": "text/x-python",
   "name": "python",
   "nbconvert_exporter": "python",
   "pygments_lexer": "ipython3",
   "version": "3.11.3"
  }
 },
 "nbformat": 4,
 "nbformat_minor": 5
}
